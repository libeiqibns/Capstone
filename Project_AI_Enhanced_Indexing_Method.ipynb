{
  "nbformat": 4,
  "nbformat_minor": 0,
  "metadata": {
    "colab": {
      "name": "Project AI-Enhanced Indexing Method.ipynb",
      "provenance": [],
      "include_colab_link": true
    },
    "kernelspec": {
      "name": "python3",
      "display_name": "Python 3"
    }
  },
  "cells": [
    {
      "cell_type": "markdown",
      "metadata": {
        "id": "view-in-github",
        "colab_type": "text"
      },
      "source": [
        "<a href=\"https://colab.research.google.com/github/libeiqibns/Capstone/blob/dev/Project_AI_Enhanced_Indexing_Method.ipynb\" target=\"_parent\"><img src=\"https://colab.research.google.com/assets/colab-badge.svg\" alt=\"Open In Colab\"/></a>"
      ]
    },
    {
      "cell_type": "markdown",
      "metadata": {
        "id": "1lCmhl1xJy_p"
      },
      "source": [
        "# Project: AI-Enhanced Indexing Method"
      ]
    },
    {
      "cell_type": "code",
      "metadata": {
        "id": "8Mdyy2ifKZ8E"
      },
      "source": [
        "# CDF\n",
        "\n",
        "# https://stackoverflow.com/questions/24788200/calculate-the-cumulative-distribution-function-cdf-in-python"
      ],
      "execution_count": null,
      "outputs": []
    },
    {
      "cell_type": "code",
      "metadata": {
        "id": "vdclwv9RJttq"
      },
      "source": [
        "# DNN\n",
        "\n",
        "class DNN ():\n",
        "\n",
        "  def __init__ ():\n",
        "\n",
        "  def "
      ],
      "execution_count": null,
      "outputs": []
    },
    {
      "cell_type": "markdown",
      "metadata": {
        "id": "lMGz2sPTLDvq"
      },
      "source": [
        "Generate Random Data"
      ]
    }
  ]
}